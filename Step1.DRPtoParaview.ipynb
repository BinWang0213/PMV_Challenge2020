{
 "cells": [
  {
   "cell_type": "code",
   "execution_count": 24,
   "metadata": {},
   "outputs": [],
   "source": [
    "import numpy as np\n",
    "import h5py\n",
    "from utils.DRP_uitls import *\n",
    "import pyvista as pv"
   ]
  },
  {
   "cell_type": "code",
   "execution_count": 2,
   "metadata": {},
   "outputs": [
    {
     "output_type": "stream",
     "name": "stdout",
     "text": [
      "Downloading ./data/3D_binary_MicrostructureData.mat from https://www.digitalrocksportal.org/projects/175/images/159992/download/.......Done!\n",
      "Downloading ./data/VX.mat from https://www.digitalrocksportal.org/projects/175/images/159989/download/.......Done!\n",
      "Downloading ./data/VY.mat from https://www.digitalrocksportal.org/projects/175/images/159990/download/.......Done!\n",
      "Downloading ./data/VZ.mat from https://www.digitalrocksportal.org/projects/175/images/159991/download/.......Done!\n"
     ]
    },
    {
     "output_type": "execute_result",
     "data": {
      "text/plain": [
       "'./data/VZ.mat'"
      ]
     },
     "metadata": {},
     "execution_count": 2
    }
   ],
   "source": [
    "#Download binary image\n",
    "file_url = \"https://www.digitalrocksportal.org/projects/175/images/159992/download/\"\n",
    "download_file(file_url,'./data/3D_binary_MicrostructureData.mat')\n",
    "\n",
    "#Download velocity data from DRP\n",
    "file_url = \"https://www.digitalrocksportal.org/projects/175/images/159989/download/\"\n",
    "download_file(file_url,'./data/VX.mat')\n",
    "file_url = \"https://www.digitalrocksportal.org/projects/175/images/159990/download/\"\n",
    "download_file(file_url,'./data/VY.mat')\n",
    "file_url = \"https://www.digitalrocksportal.org/projects/175/images/159991/download/\"\n",
    "download_file(file_url,'./data/VZ.mat')"
   ]
  },
  {
   "cell_type": "code",
   "execution_count": 7,
   "metadata": {},
   "outputs": [
    {
     "output_type": "stream",
     "name": "stdout",
     "text": [
      "Image Info (565, 525, 1071) scale= 1.6812865497076024e-05 dimension= mm [ 9.49926901  8.82675439 18.00657895]\n"
     ]
    }
   ],
   "source": [
    "#Load binay image data\n",
    "arrays = {}\n",
    "f = h5py.File('./data/3D_binary_MicrostructureData.mat')\n",
    "for k, v in f.items():\n",
    "    arrays[k] = np.array(v)\n",
    "f.close()\n",
    "\n",
    "img=arrays['Microstruct']\n",
    "scale=arrays['scale'].flatten()[0]\n",
    "print('Image Info',img.shape,'scale=',scale,'dimension= mm',np.array(img.shape)*scale*1e3)"
   ]
  },
  {
   "cell_type": "code",
   "execution_count": 22,
   "metadata": {},
   "outputs": [],
   "source": [
    "#Load velocity data\n",
    "Velocity = {}\n",
    "for vfile in ['./data/VX.mat','./data/VY.mat','./data/VZ.mat']:\n",
    "    f = h5py.File(vfile)\n",
    "    for k, v in f.items():\n",
    "        Velocity[k] = np.array(v)*1e6 #um/s\n",
    "    f.close()\n",
    "Velocity.pop('scale')\n",
    "\n",
    "Vel_magn=np.sqrt(np.power(Velocity['VX'],2)+np.power(Velocity['VY'],2)+np.power(Velocity['VZ'],2))"
   ]
  },
  {
   "cell_type": "code",
   "execution_count": 10,
   "metadata": {},
   "outputs": [],
   "source": [
    "#Convert numpy array to paraview vti image\n",
    "NX,NY,NZ=1000,500,500 #Correct axis order (input data is reversed)\n",
    "os.makedirs(\"./data\", exist_ok=True)\n",
    "\n",
    "vtkimg = pv.UniformGrid(np.array([NX,NY,NZ])+1)\n",
    "vtkimg.cell_arrays['MetaImage']=np.einsum('ijk->kji', img[0:NZ,0:NY,0:NX]).flatten(order=\"F\")\n",
    "vtkimg.save(\"./data/image_binary.vti\")"
   ]
  },
  {
   "cell_type": "code",
   "execution_count": 23,
   "metadata": {},
   "outputs": [],
   "source": [
    "Vel_field=np.zeros([np.prod([NX,NY,NZ]),3],dtype=np.float32)\n",
    "for i,v in enumerate(['VX','VY','VZ']):\n",
    "    Vel_field[:,i]=np.einsum('ijk->kji', Velocity[v][0:NZ,0:NY,0:NX]).flatten(order=\"F\")\n",
    "\n",
    "vtkimg = pv.UniformGrid(np.array([NX,NY,NZ])+1)\n",
    "vtkimg.cell_arrays['Velocity(um/s)']=Vel_field\n",
    "vtkimg.save(\"./data/image_vel.vti\")"
   ]
  }
 ],
 "metadata": {
  "kernelspec": {
   "display_name": "Python 3",
   "language": "python",
   "name": "python3"
  },
  "language_info": {
   "codemirror_mode": {
    "name": "ipython",
    "version": 3
   },
   "file_extension": ".py",
   "mimetype": "text/x-python",
   "name": "python",
   "nbconvert_exporter": "python",
   "pygments_lexer": "ipython3",
   "version": "3.7.7-final"
  }
 },
 "nbformat": 4,
 "nbformat_minor": 2
}