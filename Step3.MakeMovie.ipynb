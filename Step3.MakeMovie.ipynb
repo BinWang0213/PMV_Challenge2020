{
 "cells": [
  {
   "cell_type": "code",
   "execution_count": 1,
   "metadata": {},
   "outputs": [],
   "source": [
    "import numpy as np\n",
    "import subprocess\n",
    "import os"
   ]
  },
  {
   "source": [
    "To make video from Paraview, you need to run Macros from Paraview and then convert image stack into video using this script.\n",
    "\n",
    "* Open Paraview\n",
    "* Update working dir for Macros from the 'Paraview_Macros' folder\n",
    "* Load Macros from Paraview by Macros->Import new macro\n",
    "* Run Macro one by one from Parview to generate snapshoots at output folder\n",
    "* Run this script to combine all snapshoots into video"
   ],
   "cell_type": "markdown",
   "metadata": {}
  },
  {
   "cell_type": "code",
   "execution_count": 14,
   "metadata": {},
   "outputs": [
    {
     "output_type": "stream",
     "name": "stdout",
     "text": [
      "Plase update working dir for all Macros e:\\GoogleBox\\SimulationDataSet\\DRP_VisulizationChanllege\\particle_tracking_dataset\n"
     ]
    }
   ],
   "source": [
    "working_dir=os.getcwd()\n",
    "print(\"Plase update working dir for all Macros\",working_dir)"
   ]
  },
  {
   "cell_type": "code",
   "execution_count": 16,
   "metadata": {},
   "outputs": [
    {
     "output_type": "stream",
     "name": "stdout",
     "text": [
      "D:\\ffmpeg-4.3.1-2020-10-01-full_build\\bin\\ffmpeg.exe -y -r 25 -i ./output/%06d.png -vcodec libx264 -crf 10 -pix_fmt yuv420p ./output/Paraview.mp4\n"
     ]
    },
    {
     "output_type": "execute_result",
     "data": {
      "text/plain": [
       "0"
      ]
     },
     "metadata": {},
     "execution_count": 16
    }
   ],
   "source": [
    "#Step1. Create video from Paraview Screenshoots\n",
    "fps=25\n",
    "cmd=[r\"D:\\ffmpeg-4.3.1-2020-10-01-full_build\\bin\\ffmpeg.exe\",\"-y\",\"-r\",str(fps),\"-i\", './output/%06d.png',\"-vcodec\",\"libx264\", \"-crf\",\"10\", \"-pix_fmt\", \"yuv420p\", \"./output/Paraview.mp4\"]\n",
    "print(\" \".join(cmd))\n",
    "subprocess.call(cmd)"
   ]
  },
  {
   "cell_type": "code",
   "execution_count": 27,
   "metadata": {},
   "outputs": [
    {
     "output_type": "stream",
     "name": "stderr",
     "text": [
      "t:   0%|          | 0/3357 [00:00<?, ?it/s, now=None]Moviepy - Building video final.mp4.\n",
      "Moviepy - Writing video final.mp4\n",
      "\n",
      "Moviepy - Done !\n",
      "Moviepy - video ready final.mp4\n"
     ]
    }
   ],
   "source": [
    "#Step2. Combine cover and paraview video\n",
    "from moviepy.editor import VideoFileClip, concatenate_videoclips\n",
    "\n",
    "clip_1 = VideoFileClip(\"./output/VideoCover.mp4\")\n",
    "clip_2 = VideoFileClip(\"./output/Paraview.mp4\")\n",
    "clip_3 = VideoFileClip(\"./output/VideoEnd.mp4\")\n",
    "final_clip = concatenate_videoclips([clip_1,clip_2,clip_3])\n",
    "final_clip.write_videofile(\"final.mp4\",codec='libx264',bitrate='18000k')"
   ]
  }
 ],
 "metadata": {
  "kernelspec": {
   "display_name": "Python 3",
   "language": "python",
   "name": "python3"
  },
  "language_info": {
   "codemirror_mode": {
    "name": "ipython",
    "version": 3
   },
   "file_extension": ".py",
   "mimetype": "text/x-python",
   "name": "python",
   "nbconvert_exporter": "python",
   "pygments_lexer": "ipython3",
   "version": "3.7.7-final"
  }
 },
 "nbformat": 4,
 "nbformat_minor": 2
}